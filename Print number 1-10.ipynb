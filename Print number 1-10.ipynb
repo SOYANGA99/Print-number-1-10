{
 "cells": [
  {
   "cell_type": "code",
   "execution_count": 8,
   "id": "e5c30224",
   "metadata": {},
   "outputs": [
    {
     "name": "stdout",
     "output_type": "stream",
     "text": [
      "The numbers are:- 1\n",
      "The numbers are:- 2\n",
      "The numbers are:- 3\n",
      "The numbers are:- 4\n",
      "The numbers are:- 5\n",
      "The numbers are:- 6\n",
      "The numbers are:- 7\n",
      "The numbers are:- 8\n",
      "The numbers are:- 9\n",
      "The numbers are:- 10\n"
     ]
    }
   ],
   "source": [
    "no = 1\n",
    "while(no<=10):\n",
    "    print(\"The numbers are:-\", no)\n",
    "    no += 1"
   ]
  },
  {
   "cell_type": "code",
   "execution_count": 9,
   "id": "121721df",
   "metadata": {},
   "outputs": [
    {
     "name": "stdout",
     "output_type": "stream",
     "text": [
      "The numbers are:- 1\n",
      "The numbers are:- 2\n",
      "The numbers are:- 3\n",
      "The numbers are:- 4\n",
      "The numbers are:- 5\n",
      "The numbers are:- 6\n",
      "The numbers are:- 7\n",
      "The numbers are:- 8\n",
      "The numbers are:- 9\n"
     ]
    }
   ],
   "source": [
    "for no in range(1,10):\n",
    "    print(\"The numbers are:-\", no)"
   ]
  },
  {
   "cell_type": "code",
   "execution_count": null,
   "id": "05a2f951",
   "metadata": {},
   "outputs": [],
   "source": []
  }
 ],
 "metadata": {
  "kernelspec": {
   "display_name": "Python 3 (ipykernel)",
   "language": "python",
   "name": "python3"
  },
  "language_info": {
   "codemirror_mode": {
    "name": "ipython",
    "version": 3
   },
   "file_extension": ".py",
   "mimetype": "text/x-python",
   "name": "python",
   "nbconvert_exporter": "python",
   "pygments_lexer": "ipython3",
   "version": "3.9.7"
  }
 },
 "nbformat": 4,
 "nbformat_minor": 5
}
